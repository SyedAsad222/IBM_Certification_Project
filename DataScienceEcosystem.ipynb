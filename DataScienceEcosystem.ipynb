{
 "cells": [
  {
   "cell_type": "markdown",
   "id": "eabfc2d7-8256-4edc-a8a0-28e2da9ae931",
   "metadata": {},
   "source": [
    "# Data Science Tools and Ecosystem"
   ]
  },
  {
   "cell_type": "markdown",
   "id": "b61ce92f-95b8-4772-961a-c3b0b77b3a20",
   "metadata": {},
   "source": [
    "## In this notebook, Data Science Tools and Ecosystem are summarized."
   ]
  },
  {
   "cell_type": "markdown",
   "id": "7cc6541b-9ad0-483f-8536-ca26bb25f4ea",
   "metadata": {},
   "source": [
    "**Objective:**\n",
    "- List popular languages for Data Science.\n",
    "- Commonly used libraries by Data Scientist.\n",
    "- Maths Operation in pyhton.\n",
    "- Time Conversion in python.\n",
    "  "
   ]
  },
  {
   "cell_type": "markdown",
   "id": "e09cd5cf-1cf5-4afb-9820-fc1202f41223",
   "metadata": {},
   "source": [
    "## Some of the popular languages that Data Scientists use are:\n",
    "1. Python\n",
    "1. SQL\n",
    "1. R\n",
    "1. Java"
   ]
  },
  {
   "cell_type": "markdown",
   "id": "82015a0d-aad0-405d-9b6b-42203ff40005",
   "metadata": {},
   "source": [
    "## Some of the commonly used libraries used by Data Scientists include:\n",
    " - Pandas\n",
    " - NumPy\n",
    " - Dplyr\n",
    " - Matplotlib"
   ]
  },
  {
   "cell_type": "markdown",
   "id": "7ecc7c7a-29f9-47d0-a735-d16f063f4c77",
   "metadata": {},
   "source": [
    "| Data Science Tools |\n",
    "| :-:\n",
    "| Jupyter Notebook   |\n",
    "| Visual Studio      |\n",
    "| Spyder             |"
   ]
  },
  {
   "cell_type": "markdown",
   "id": "c53d788d-c79c-4e9e-937e-88d13e7329a3",
   "metadata": {},
   "source": [
    "### Below are a few examples of evaluating arithmetic expressions in Python."
   ]
  },
  {
   "cell_type": "code",
   "execution_count": 7,
   "id": "6ce59d8d-d861-4cc2-a97c-deb32bff2821",
   "metadata": {},
   "outputs": [
    {
     "data": {
      "text/plain": [
       "17"
      ]
     },
     "execution_count": 7,
     "metadata": {},
     "output_type": "execute_result"
    }
   ],
   "source": [
    "# This a simple arithmetic expression to mutiply then add integers\n",
    "(3*4)+5"
   ]
  },
  {
   "cell_type": "code",
   "execution_count": 8,
   "id": "fa50b162-22e1-44fd-8d1d-1e876b3c4c7c",
   "metadata": {},
   "outputs": [
    {
     "data": {
      "text/plain": [
       "3.3333333333333335"
      ]
     },
     "execution_count": 8,
     "metadata": {},
     "output_type": "execute_result"
    }
   ],
   "source": [
    "# This will convert 200 minutes to hours by diving by 60\n",
    "200/60"
   ]
  },
  {
   "cell_type": "markdown",
   "id": "8e36b5aa-f9df-47c5-9677-72505503ceb4",
   "metadata": {},
   "source": [
    "## Author\n",
    "Syed Muhammad Asad"
   ]
  },
  {
   "cell_type": "code",
   "execution_count": null,
   "id": "d41f7d32-329b-4995-850a-382898061e1b",
   "metadata": {},
   "outputs": [],
   "source": []
  }
 ],
 "metadata": {
  "kernelspec": {
   "display_name": "Python 3 (ipykernel)",
   "language": "python",
   "name": "python3"
  },
  "language_info": {
   "codemirror_mode": {
    "name": "ipython",
    "version": 3
   },
   "file_extension": ".py",
   "mimetype": "text/x-python",
   "name": "python",
   "nbconvert_exporter": "python",
   "pygments_lexer": "ipython3",
   "version": "3.12.4"
  }
 },
 "nbformat": 4,
 "nbformat_minor": 5
}
